{
 "cells": [
  {
   "attachments": {},
   "cell_type": "markdown",
   "metadata": {},
   "source": [
    "1.2.1 ПРИМЕР Задача: Необходимо разработать виртуальную модель процесса обучения. В программе должны быть объекты-ученики, учитель, кладезь знаний. Потребуется три класса – \"учитель\", \"ученик\", \"данные\". Учитель и ученик во многом похожи, оба – люди. Значит, их классы могут принадлежать одному надклассу \"человек\". Однако в контексте данной задачи у учителя и ученика вряд ли найдутся общие атрибуты. Определим, что должны уметь объекты для решения задачи \"увеличить знания\": • Ученик должен уметь брать информацию и превращать ее в свои знания. • Учитель должен уметь учить группу учеников. • Данные могут представлять собой список знаний. Элементы будут извлекаться по индексу."
   ]
  },
  {
   "cell_type": "code",
   "execution_count": 2,
   "metadata": {},
   "outputs": [
    {
     "name": "stdout",
     "output_type": "stream",
     "text": [
      "['inheritance']\n",
      "['inheritance', 'class']\n"
     ]
    }
   ],
   "source": [
    "class Data:\n",
    "    def __init__(self, *info):    self.info = list(info)\n",
    "    def __getitem__(self, i):\n",
    "        return self.info [i]\n",
    "class Teacher:\n",
    "    def teach(self, info, *pupil):\n",
    "        for i in pupil:\n",
    "            i.take(info)\n",
    "class Pupil:\n",
    "    def __init__(self):\n",
    "        self.knowledge = []\n",
    "    def take(self, info):\n",
    "        self. knowledge.append(info)\n",
    "lesson = Data('class', 'object', 'inheritance', 'polymorphism', 'encapsulation')\n",
    "marIvanna = Teacher()\n",
    "vasy = Pupil()\n",
    "pety = Pupil()\n",
    "marIvanna.teach(lesson[2], vasy, pety)\n",
    "marIvanna.teach(lesson[0], pety)\n",
    "print(vasy.knowledge)\n",
    "print(pety.knowledge)"
   ]
  },
  {
   "attachments": {},
   "cell_type": "markdown",
   "metadata": {},
   "source": [
    "1.2.2 Пример Задача: Напишите программу по следующему описанию. Есть класс \"Воин\". От него создаются два экземпляра-юнита. Каждому устанавливается здоровье в 100 очков. В случайном порядке они бьют друг друга. Тот, кто бьет, здоровья не теряет. У того, кого бьют, оно уменьшается на 20 очков от одного удара. После каждого удара надо выводить сообщение, какой юнит атаковал, и сколько у противника осталось здоровья. Как только у кого-то заканчивается ресурс здоровья, программа завершается сообщением о том, кто одержал победу."
   ]
  },
  {
   "cell_type": "code",
   "execution_count": 6,
   "metadata": {},
   "outputs": [
    {
     "name": "stdout",
     "output_type": "stream",
     "text": [
      "Warrior2  has attacked\n",
      "80  left\n"
     ]
    }
   ],
   "source": [
    "import random\n",
    "class Warrior:\n",
    "    def __init__(self, health):\n",
    "        self.health = health\n",
    "    def hit(self, target, target1):\n",
    "        if target.health > 0:\n",
    "            target.health -= 20\n",
    "        if target1 == warrior1:\n",
    "            target1 = \"Warrior1\"\n",
    "        if target1 == warrior2:\n",
    "            target1 = \"Warrior2\"\n",
    "        print(target1, \" has attacked\")\n",
    "        print(target.health, \" left\")\n",
    "        if target.health == 0:\n",
    "            print(target1, \" has won\")\n",
    "            \n",
    "warrior1 = Warrior(100)\n",
    "warrior2 = Warrior(100)\n",
    "q = int(input(\"Enter 1 to attack. Enter 2 to stop program:\"))\n",
    "while q != 2:\n",
    "    if q == 1:\n",
    "        j = random.randint(1,3)\n",
    "        if j % 2 == 0:\n",
    "            warrior1.hit(warrior2,warrior1)\n",
    "            q = int(input(\"Enter 1 to let some warrior attack:\"))\n",
    "        else:\n",
    "            warrior2.hit(warrior1, warrior2)\n",
    "            q = int(input(\"Enter 1 to let some warrior attack:\"))\n",
    "    else:\n",
    "        print(\"Wrong input.\")\n",
    "        break"
   ]
  },
  {
   "attachments": {},
   "cell_type": "markdown",
   "metadata": {},
   "source": [
    "1.2.3 ПРИМЕР Задача: Создайте класс по работе с дробями. В классе должна быть реализована следующая функциональность: сложение дробей; вычитание дробей; умножение дробей; деление дробей."
   ]
  },
  {
   "cell_type": "code",
   "execution_count": 7,
   "metadata": {},
   "outputs": [
    {
     "name": "stdout",
     "output_type": "stream",
     "text": [
      "5/6\n",
      "1/6\n",
      "1/6\n",
      "1/6\n",
      "3/2\n",
      "1/2\n"
     ]
    }
   ],
   "source": [
    "class Rational:\n",
    "    @staticmethod\n",
    "    def gcd(a,b):\n",
    "        while (b != 0):\n",
    "            (a,b) = (b, a%b)\n",
    "        return a\n",
    "\n",
    "    @staticmethod\n",
    "    def sgn(x):\n",
    "        if x>0:\n",
    "            return 1\n",
    "        elif x<0:\n",
    "            return -1\n",
    "        else:\n",
    "            return 0\n",
    "    def __init__(self,n,d):\n",
    "        if n==0:\n",
    "            self.num=0\n",
    "            self.den=1\n",
    "        else:\n",
    "            z=self.sgn(n)*self.sgn(d)\n",
    "            n=abs(n)\n",
    "            d=abs(d)\n",
    "            k=self.gcd(n, d)\n",
    "            self.num=z*n//k\n",
    "            self.den=d//k\n",
    "    def __str__(self):\n",
    "        if self.num==0:\n",
    "            return \"0\"\n",
    "        else:\n",
    "            return str(self.num)+\"/\"+str(self.den)\n",
    "    def __add__(self,o):\n",
    "        n1=self.num\n",
    "        d1=self. den\n",
    "        if type(o)==int:\n",
    "            n2=0\n",
    "            d2=1\n",
    "        else:\n",
    "            n2=o.num\n",
    "            d2=o.den\n",
    "        n=n1*d2+n2*d1\n",
    "        d=d1*d2\n",
    "        return Rational(n,d)\n",
    "\n",
    "    def __radd__(self,o):\n",
    "        n1=self.num\n",
    "        d1=self.den\n",
    "        if type(o)==int:\n",
    "            n2=0\n",
    "            d2=1\n",
    "        else:\n",
    "            n2=o.num\n",
    "            d2=o.den\n",
    "        n=n1*d2+n2*d1\n",
    "        d=d1*d2\n",
    "        return Rational(n, d)\n",
    "    def __sub__(self,o):\n",
    "        n1=self.num\n",
    "        d1=self. den\n",
    "        n2=o.num\n",
    "        d2=o.den\n",
    "        n=n1*d2-n2*d1\n",
    "        d=d1*d2\n",
    "        return Rational(n, d)\n",
    "    def __mul__(self,o):\n",
    "        n1=self.num\n",
    "        d1=self.den\n",
    "        n2=o.num\n",
    "        d2=o.den\n",
    "        n=n1*n2\n",
    "        d=d1*d2\n",
    "        return Rational(n, d)\n",
    "    def __floordiv__(self,o):\n",
    "        n1=self.num\n",
    "        d1=self.den\n",
    "        n2=o.num\n",
    "        d2=o.den\n",
    "        n=n1*d2\n",
    "        d=d1*n2\n",
    "        return Rational(n, d)\n",
    "d1=Rational(1,2)\n",
    "d2=Rational(1,3)\n",
    "\n",
    "d3=d1+d2\n",
    "print(d3)\n",
    "d4=d1-d2\n",
    "print(d4)\n",
    "d5=d1*d2\n",
    "print(d5)\n",
    "d6=d1*d2\n",
    "print(d6)\n",
    "d7=d1//d2\n",
    "print(d7)\n",
    "d8=6+d1\n",
    "print(d8)"
   ]
  },
  {
   "attachments": {},
   "cell_type": "markdown",
   "metadata": {},
   "source": [
    "Задание 1 \n",
    "Создайте класс по работе с тригонометрическими функциями. В классе\n",
    "должны быть реализованы функции вычисления:\n",
    "− косинуса;\n",
    "− синуса;\n",
    "− тангенса;\n",
    "− арксинуса;\n",
    "− арккосинуса;\n",
    "− арктангенса;\n",
    "− перевода из градусов в радианы."
   ]
  },
  {
   "cell_type": "code",
   "execution_count": 8,
   "metadata": {},
   "outputs": [
    {
     "name": "stdout",
     "output_type": "stream",
     "text": [
      "-0.9524129804151563\n",
      "0.320040389379563\n",
      "-0.3048106211022167\n",
      "None\n",
      "None\n",
      "1.0471975511965976\n"
     ]
    }
   ],
   "source": [
    "import math as m \n",
    "import numpy as np\n",
    "class tr:\n",
    "    def __init__(self,num):\n",
    "        self.num = num\n",
    "\n",
    "    def meth(self): #cos\n",
    "        print(m.cos(self.num))\n",
    "\n",
    "    def meth1(self): #tg\n",
    "        print(m.tan(self.num))\n",
    "\n",
    "    def meth2(self): #sin\n",
    "        print(m.sin(self.num))\n",
    "\n",
    "    def meth3(self):\n",
    "        try: #asin\n",
    "            print(m.asin(self.num))\n",
    "        except BaseException:\n",
    "            print(None)\n",
    "\n",
    "    def meth4(self):\n",
    "        try: #acos\n",
    "            print(m.acos(self.num))\n",
    "        except BaseException:\n",
    "            print(None)\n",
    "\n",
    "    def meth5(self):\n",
    "        try: #atg\n",
    "            m.atan(self.num)\n",
    "        except BaseException:\n",
    "            print(None)\n",
    "\n",
    "    def meth6(self): # radians\n",
    "        print(m.radians(self.num))\n",
    "\n",
    "\n",
    "t = tr(60)\n",
    "t.meth()\n",
    "t.meth1()\n",
    "t.meth2()\n",
    "t.meth3()\n",
    "t.meth4()\n",
    "t.meth5()\n",
    "t.meth6()"
   ]
  },
  {
   "attachments": {},
   "cell_type": "markdown",
   "metadata": {},
   "source": [
    "1.2.1 ПРИМЕР Задача: Определите класс бинарного дерева и задайте его объекты с отдельным атрибутом для каждого из потомков."
   ]
  },
  {
   "cell_type": "code",
   "execution_count": 9,
   "metadata": {},
   "outputs": [
    {
     "data": {
      "text/plain": [
       "'c'"
      ]
     },
     "execution_count": 9,
     "metadata": {},
     "output_type": "execute_result"
    }
   ],
   "source": [
    "class Tree:\n",
    "    def __init__(self, left, right):\n",
    "        self.left = left\n",
    "        self.right = right\n",
    "t = Tree(Tree(\"a\", \"b\"), Tree(\"c\", \"d\"))\n",
    "t.right.left"
   ]
  },
  {
   "attachments": {},
   "cell_type": "markdown",
   "metadata": {},
   "source": [
    "1.2.2 ПРИМЕР\n",
    "\n",
    "Для обозначения отсутствующих потомков можно использовать None (в случае если у узла только один потомок). Само собой, можно комбинировать разные методы (например, использовать списки или множества потомков для каждого узла). Распространенный способ реализации деревьев, особенно на языках, не имеющих встроенной поддержки списков, это так называемое представление «первый потомок, следующий брат». В нем каждый узел имеет два «указателя» или атрибута, указывающих на другие узлы, как в бинарном дереве. Однако, первый из этих атрибутов ссылается на первого потомка узла, а второй — на его следующего брата (т.е. узел, имеющий того же родителя, но находящийся правее, — прим. перев). Иными словами, каждый узел дерева имеет указатель на связанный список его потомков, а каждый из этих потомков ссылается на свой собственный аналогичный список. Таким образом, небольшая модификация бинарного дерева даст нам многопутевое дерево, показанное в листинге ниже."
   ]
  },
  {
   "cell_type": "code",
   "execution_count": 10,
   "metadata": {},
   "outputs": [
    {
     "data": {
      "text/plain": [
       "'c'"
      ]
     },
     "execution_count": 10,
     "metadata": {},
     "output_type": "execute_result"
    }
   ],
   "source": [
    "class Tree:\n",
    "    def __init__(self, kids, next=None):\n",
    "        self.kids = self.val = kids\n",
    "        self.next = next\n",
    "\n",
    "t = Tree(Tree(\"a\", Tree(\"b\", Tree(\"c\", Tree(\"d\")))))\n",
    "t.kids.next.next.val"
   ]
  },
  {
   "attachments": {},
   "cell_type": "markdown",
   "metadata": {},
   "source": [
    "ЗАДАНИЕ 2\n",
    "Представьте дерево показанное на рисунке с использованием списка из\n",
    "списков. Выведите на печать корень дерева, а также его левое и правое\n",
    "поддеревья."
   ]
  },
  {
   "cell_type": "code",
   "execution_count": 11,
   "metadata": {},
   "outputs": [
    {
     "name": "stdout",
     "output_type": "stream",
     "text": [
      "a\n",
      "['b', [['d'], ['e']]]\n",
      "['с', ['f']]\n"
     ]
    }
   ],
   "source": [
    "T = ['a',\n",
    "    [['b',\n",
    "    [['d'],['e']]],\n",
    "    ['с',['f']]]]\n",
    "\n",
    "print (T[0])\n",
    "print (T[1][0])\n",
    "print (T[1][1])\n",
    "\n",
    "    "
   ]
  },
  {
   "attachments": {},
   "cell_type": "markdown",
   "metadata": {},
   "source": [
    "ЗАДАНИЕ 3 \n",
    "Дан класс, описывающий бинарное дерево.\n",
    "class Tree:\n",
    " def __init__(self, data):\n",
    " self.left = None\n",
    " self.right = None\n",
    " self.data = data\n",
    " def PrintTree(self):\n",
    " print(self.data)\n",
    "Реализуйте в классе функцию для вставки нового элемента в дерево по\n",
    "следующим правилам:\n",
    "• Левое поддерево узла содержит только узлы со значениями меньше,\n",
    "чем значение в узле.\n",
    "• Правое поддерево узла содержит только узлы со значениями меньше,\n",
    "чем значение в узле.\n",
    "• Каждое из левого и правого поддеревьев также должно быть\n",
    "бинарным деревом поиска.\n",
    "• Не должно быть повторяющихся узлов.\n",
    "Метод вставки сравнивает значение узла с родительским узлом и решает\n",
    "куда доваить элемент (в левое или правое поддерево). Перепишите, метод\n",
    "PrintTree для печати полной версии дерева"
   ]
  },
  {
   "cell_type": "code",
   "execution_count": 85,
   "metadata": {},
   "outputs": [
    {
     "name": "stdout",
     "output_type": "stream",
     "text": [
      "1\n",
      "42\n",
      "65\n",
      "85\n",
      "90\n",
      "94\n"
     ]
    }
   ],
   "source": [
    "class Tree:\n",
    "    def __init__(self, data):\n",
    "        self.left = None\n",
    "        self.right = None\n",
    "        self.data = data\n",
    "\n",
    "    def PrintTree(self):\n",
    "        if self.left:\n",
    "            self.left.PrintTree()\n",
    "        print(self.data)\n",
    "        if self.right:\n",
    "            self.right.PrintTree()\n",
    "        \n",
    "\n",
    "    def insertion(self,value):\n",
    "        if value < self.data:\n",
    "            if self.left:\n",
    "                self.left.insertion(value)\n",
    "            else:\n",
    "                self.left = Tree(value)\n",
    "        elif value > self.data:\n",
    "            if self.right:\n",
    "                self.right.insertion(value)\n",
    "            else:\n",
    "                self.right = Tree(value) \n",
    "\n",
    "T = Tree((1))\n",
    "for i in range(5):\n",
    "    x = (random.randint(40,100))\n",
    "    T.insertion(x)\n",
    "\n",
    "T.PrintTree()"
   ]
  },
  {
   "attachments": {},
   "cell_type": "markdown",
   "metadata": {},
   "source": [
    "1.3.1 ПРИМЕР Задача: Построим дерево решений для задачи классификации, для этого, построим границу решения для каждого класса. В качестве данных будем использовать уже знакомый нам и встроенный в библиотеку sklearn набор данных ирисов Фишера. Импортируем библиотеки, набор данных и посмотрим его характеристики."
   ]
  },
  {
   "cell_type": "code",
   "execution_count": 86,
   "metadata": {},
   "outputs": [
    {
     "data": {
      "text/html": [
       "<div>\n",
       "<style scoped>\n",
       "    .dataframe tbody tr th:only-of-type {\n",
       "        vertical-align: middle;\n",
       "    }\n",
       "\n",
       "    .dataframe tbody tr th {\n",
       "        vertical-align: top;\n",
       "    }\n",
       "\n",
       "    .dataframe thead th {\n",
       "        text-align: right;\n",
       "    }\n",
       "</style>\n",
       "<table border=\"1\" class=\"dataframe\">\n",
       "  <thead>\n",
       "    <tr style=\"text-align: right;\">\n",
       "      <th></th>\n",
       "      <th>sepal_length</th>\n",
       "      <th>sepal_width</th>\n",
       "      <th>petal_length</th>\n",
       "      <th>petal_width</th>\n",
       "      <th>species</th>\n",
       "    </tr>\n",
       "  </thead>\n",
       "  <tbody>\n",
       "    <tr>\n",
       "      <th>0</th>\n",
       "      <td>5.1</td>\n",
       "      <td>3.5</td>\n",
       "      <td>1.4</td>\n",
       "      <td>0.2</td>\n",
       "      <td>setosa</td>\n",
       "    </tr>\n",
       "    <tr>\n",
       "      <th>1</th>\n",
       "      <td>4.9</td>\n",
       "      <td>3.0</td>\n",
       "      <td>1.4</td>\n",
       "      <td>0.2</td>\n",
       "      <td>setosa</td>\n",
       "    </tr>\n",
       "    <tr>\n",
       "      <th>2</th>\n",
       "      <td>4.7</td>\n",
       "      <td>3.2</td>\n",
       "      <td>1.3</td>\n",
       "      <td>0.2</td>\n",
       "      <td>setosa</td>\n",
       "    </tr>\n",
       "    <tr>\n",
       "      <th>3</th>\n",
       "      <td>4.6</td>\n",
       "      <td>3.1</td>\n",
       "      <td>1.5</td>\n",
       "      <td>0.2</td>\n",
       "      <td>setosa</td>\n",
       "    </tr>\n",
       "    <tr>\n",
       "      <th>4</th>\n",
       "      <td>5.0</td>\n",
       "      <td>3.6</td>\n",
       "      <td>1.4</td>\n",
       "      <td>0.2</td>\n",
       "      <td>setosa</td>\n",
       "    </tr>\n",
       "  </tbody>\n",
       "</table>\n",
       "</div>"
      ],
      "text/plain": [
       "   sepal_length  sepal_width  petal_length  petal_width species\n",
       "0           5.1          3.5           1.4          0.2  setosa\n",
       "1           4.9          3.0           1.4          0.2  setosa\n",
       "2           4.7          3.2           1.3          0.2  setosa\n",
       "3           4.6          3.1           1.5          0.2  setosa\n",
       "4           5.0          3.6           1.4          0.2  setosa"
      ]
     },
     "execution_count": 86,
     "metadata": {},
     "output_type": "execute_result"
    }
   ],
   "source": [
    "import pandas as pd\n",
    "import numpy as np\n",
    "import seaborn as sns\n",
    "import matplotlib.pyplot as plt\n",
    "dataset = sns.load_dataset('iris')\n",
    "dataset\n",
    "dataset.shape\n",
    "dataset.head()"
   ]
  },
  {
   "attachments": {},
   "cell_type": "markdown",
   "metadata": {},
   "source": [
    "Далее, разделим наши данные на атрибуты и метки, а затем выделим в общей совокупности полученных данных обучающие и тестовые наборы. Таким образом, мы можем обучить наш алгоритм на одном наборе данных, а затем протестировать его на совершенно на другом наборе, который алгоритм еще не видел. Это дает вам более точное представление о том, как на самом деле будет работать ваш обученный алгоритм."
   ]
  },
  {
   "cell_type": "code",
   "execution_count": 87,
   "metadata": {},
   "outputs": [
    {
     "data": {
      "text/plain": [
       "[Text(0.5, 0.9, 'x[2] <= 2.45\\ngini = 0.666\\nsamples = 120\\nvalue = [41, 41, 38]'),\n",
       " Text(0.4230769230769231, 0.7, 'gini = 0.0\\nsamples = 41\\nvalue = [41, 0, 0]'),\n",
       " Text(0.5769230769230769, 0.7, 'x[3] <= 1.75\\ngini = 0.499\\nsamples = 79\\nvalue = [0, 41, 38]'),\n",
       " Text(0.3076923076923077, 0.5, 'x[2] <= 4.95\\ngini = 0.13\\nsamples = 43\\nvalue = [0, 40, 3]'),\n",
       " Text(0.15384615384615385, 0.3, 'x[3] <= 1.65\\ngini = 0.05\\nsamples = 39\\nvalue = [0, 38, 1]'),\n",
       " Text(0.07692307692307693, 0.1, 'gini = 0.0\\nsamples = 38\\nvalue = [0, 38, 0]'),\n",
       " Text(0.23076923076923078, 0.1, 'gini = 0.0\\nsamples = 1\\nvalue = [0, 0, 1]'),\n",
       " Text(0.46153846153846156, 0.3, 'x[3] <= 1.55\\ngini = 0.5\\nsamples = 4\\nvalue = [0, 2, 2]'),\n",
       " Text(0.38461538461538464, 0.1, 'gini = 0.0\\nsamples = 2\\nvalue = [0, 0, 2]'),\n",
       " Text(0.5384615384615384, 0.1, 'gini = 0.0\\nsamples = 2\\nvalue = [0, 2, 0]'),\n",
       " Text(0.8461538461538461, 0.5, 'x[2] <= 4.85\\ngini = 0.054\\nsamples = 36\\nvalue = [0, 1, 35]'),\n",
       " Text(0.7692307692307693, 0.3, 'x[1] <= 3.0\\ngini = 0.5\\nsamples = 2\\nvalue = [0, 1, 1]'),\n",
       " Text(0.6923076923076923, 0.1, 'gini = 0.0\\nsamples = 1\\nvalue = [0, 0, 1]'),\n",
       " Text(0.8461538461538461, 0.1, 'gini = 0.0\\nsamples = 1\\nvalue = [0, 1, 0]'),\n",
       " Text(0.9230769230769231, 0.3, 'gini = 0.0\\nsamples = 34\\nvalue = [0, 0, 34]')]"
      ]
     },
     "execution_count": 87,
     "metadata": {},
     "output_type": "execute_result"
    },
    {
     "data": {
      "image/png": "[encoded data removed]",
      "text/plain": [
       "<Figure size 640x480 with 1 Axes>"
      ]
     },
     "metadata": {},
     "output_type": "display_data"
    }
   ],
   "source": [
    "from sklearn.model_selection import train_test_split\n",
    "X_train, X_test, y_train, y_test = train_test_split(\n",
    "    dataset.iloc[:, :-1],\n",
    "    dataset.iloc[:, -1],\n",
    "    test_size = 0.20\n",
    ")\n",
    "X_train.shape, X_test.shape,y_train.shape, y_test.shape\n",
    "X_train.head()\n",
    "y_train. head()\n",
    "\n",
    "from sklearn.tree import DecisionTreeClassifier\n",
    "classifier = DecisionTreeClassifier()\n",
    "classifier.fit(X_train, y_train)\n",
    "#построим делево решений\n",
    "from sklearn import tree\n",
    "tree.plot_tree(classifier)"
   ]
  },
  {
   "attachments": {},
   "cell_type": "markdown",
   "metadata": {},
   "source": [
    "Теперь, когда наш классификатор обучен, давайте сделаем прогнозы по тестовым данным. Для составления прогнозов используется метод predict класса Decision Tree Classifier. Взгляните на следующий код для использования."
   ]
  },
  {
   "cell_type": "code",
   "execution_count": 88,
   "metadata": {},
   "outputs": [
    {
     "data": {
      "text/plain": [
       "array(['versicolor', 'versicolor', 'setosa', 'versicolor', 'virginica',\n",
       "       'setosa', 'versicolor', 'versicolor', 'versicolor', 'versicolor',\n",
       "       'virginica', 'setosa', 'virginica', 'versicolor', 'setosa',\n",
       "       'setosa', 'virginica', 'virginica', 'virginica', 'virginica',\n",
       "       'versicolor', 'virginica', 'setosa', 'virginica', 'setosa',\n",
       "       'virginica', 'setosa', 'setosa', 'virginica', 'versicolor'],\n",
       "      dtype=object)"
      ]
     },
     "execution_count": 88,
     "metadata": {},
     "output_type": "execute_result"
    }
   ],
   "source": [
    "y_pred = classifier.predict(X_test)\n",
    "y_pred"
   ]
  },
  {
   "attachments": {},
   "cell_type": "markdown",
   "metadata": {},
   "source": [
    "На данный момент мы обучили наш алгоритм и сделали некоторые прогнозы. Теперь посмотрим, насколько точен наш алгоритм. Для задач классификации обычно используются такие метрики, как матрица путаницы, точность. Библиотека Scikit-Learn metrics содержит методы classification_report и confusion_matrix, которые могут быть использованы для расчета этих метрик."
   ]
  },
  {
   "cell_type": "code",
   "execution_count": 89,
   "metadata": {},
   "outputs": [
    {
     "name": "stdout",
     "output_type": "stream",
     "text": [
      "[[ 9  0  0]\n",
      " [ 0  9  0]\n",
      " [ 0  1 11]]\n",
      "              precision    recall  f1-score   support\n",
      "\n",
      "      setosa       1.00      1.00      1.00         9\n",
      "  versicolor       0.90      1.00      0.95         9\n",
      "   virginica       1.00      0.92      0.96        12\n",
      "\n",
      "    accuracy                           0.97        30\n",
      "   macro avg       0.97      0.97      0.97        30\n",
      "weighted avg       0.97      0.97      0.97        30\n",
      "\n"
     ]
    }
   ],
   "source": [
    "from sklearn.metrics import classification_report, confusion_matrix\n",
    "print(confusion_matrix(y_test, y_pred))\n",
    "print(classification_report(y_test, y_pred))"
   ]
  },
  {
   "attachments": {},
   "cell_type": "markdown",
   "metadata": {},
   "source": [
    "Задание 4\n",
    "Постройте классификатор на основе дерева принятия решений\n",
    "следующего датасета: X = np.array([[-1, -1], [-2, -1], [-3, -2], [1, 1], [2, 1], [3, 2]]) \n",
    "target - [0, 0, 0, 1, 1, 1]"
   ]
  },
  {
   "cell_type": "code",
   "execution_count": 96,
   "metadata": {},
   "outputs": [
    {
     "name": "stdout",
     "output_type": "stream",
     "text": [
      "[[3 0]\n",
      " [0 3]]\n",
      "              precision    recall  f1-score   support\n",
      "\n",
      "           0       1.00      1.00      1.00         3\n",
      "           1       1.00      1.00      1.00         3\n",
      "\n",
      "    accuracy                           1.00         6\n",
      "   macro avg       1.00      1.00      1.00         6\n",
      "weighted avg       1.00      1.00      1.00         6\n",
      "\n"
     ]
    },
    {
     "data": {
      "image/png": "[encoded data removed]",
      "text/plain": [
       "<Figure size 640x480 with 1 Axes>"
      ]
     },
     "metadata": {},
     "output_type": "display_data"
    }
   ],
   "source": [
    "import pandas as pd\n",
    "import numpy as np \n",
    "import seaborn as sns\n",
    "import matplotlib.pyplot as plt\n",
    "from sklearn.model_selection import train_test_split\n",
    "\n",
    "#создаем набор данных\n",
    "dataset = np.array([[-1, -1], [-2, -1], [-3, -2], [1, 1], [2, 1], [3, 2]])\n",
    "target = [0, 0, 0, 1, 1, 1]\n",
    "\n",
    "dataset.shape\n",
    "\n",
    "#создаем классификатор дерева и обучаем его на данных с помощью fit\n",
    "classifier = DecisionTreeClassifier()\n",
    "classifier.fit(dataset,target)\n",
    "\n",
    "#визуализируем дерево\n",
    "tree.plot_tree(classifier)\n",
    "\n",
    "#предсказания \n",
    "y_pred = classifier.predict(dataset)\n",
    "\n",
    "print(confusion_matrix(y_pred,target)) #выводим матрицу ошибок\n",
    "print(classification_report(y_pred,target)) # отчет о классификации"
   ]
  },
  {
   "attachments": {},
   "cell_type": "markdown",
   "metadata": {},
   "source": [
    "1.4.1 ПРИМЕР Задача: Постойте регрессию с использованием дерева решений, реализованного в Python."
   ]
  },
  {
   "cell_type": "code",
   "execution_count": 99,
   "metadata": {},
   "outputs": [
    {
     "name": "stdout",
     "output_type": "stream",
     "text": [
      "(30, 2)\n"
     ]
    },
    {
     "data": {
      "image/png": "[encoded data removed]",
      "text/plain": [
       "<Figure size 640x480 with 1 Axes>"
      ]
     },
     "metadata": {},
     "output_type": "display_data"
    },
    {
     "name": "stdout",
     "output_type": "stream",
     "text": [
      "[[ 1.1]\n",
      " [ 1.3]\n",
      " [ 1.5]\n",
      " [ 2. ]\n",
      " [ 2.2]\n",
      " [ 2.9]\n",
      " [ 3. ]\n",
      " [ 3.2]\n",
      " [ 3.2]\n",
      " [ 3.7]\n",
      " [ 3.9]\n",
      " [ 4. ]\n",
      " [ 4. ]\n",
      " [ 4.1]\n",
      " [ 4.5]\n",
      " [ 4.9]\n",
      " [ 5.1]\n",
      " [ 5.3]\n",
      " [ 5.9]\n",
      " [ 6. ]\n",
      " [ 6.8]\n",
      " [ 7.1]\n",
      " [ 7.9]\n",
      " [ 8.2]\n",
      " [ 8.7]\n",
      " [ 9. ]\n",
      " [ 9.5]\n",
      " [ 9.6]\n",
      " [10.3]\n",
      " [10.5]]\n",
      "[ 39343.  46205.  37731.  43525.  39891.  56642.  60150.  54445.  64445.\n",
      "  57189.  63218.  55794.  56957.  57081.  61111.  67938.  66029.  83088.\n",
      "  81363.  93940.  91738.  98273. 101302. 113812. 109431. 105582. 116969.\n",
      " 112635. 122391. 121872.]\n"
     ]
    },
    {
     "data": {
      "text/html": [
       "<style>#sk-container-id-1 {color: black;background-color: white;}#sk-container-id-1 pre{padding: 0;}#sk-container-id-1 div.sk-toggleable {background-color: white;}#sk-container-id-1 label.sk-toggleable__label {cursor: pointer;display: block;width: 100%;margin-bottom: 0;padding: 0.3em;box-sizing: border-box;text-align: center;}#sk-container-id-1 label.sk-toggleable__label-arrow:before {content: \"▸\";float: left;margin-right: 0.25em;color: #696969;}#sk-container-id-1 label.sk-toggleable__label-arrow:hover:before {color: black;}#sk-container-id-1 div.sk-estimator:hover label.sk-toggleable__label-arrow:before {color: black;}#sk-container-id-1 div.sk-toggleable__content {max-height: 0;max-width: 0;overflow: hidden;text-align: left;background-color: #f0f8ff;}#sk-container-id-1 div.sk-toggleable__content pre {margin: 0.2em;color: black;border-radius: 0.25em;background-color: #f0f8ff;}#sk-container-id-1 input.sk-toggleable__control:checked~div.sk-toggleable__content {max-height: 200px;max-width: 100%;overflow: auto;}#sk-container-id-1 input.sk-toggleable__control:checked~label.sk-toggleable__label-arrow:before {content: \"▾\";}#sk-container-id-1 div.sk-estimator input.sk-toggleable__control:checked~label.sk-toggleable__label {background-color: #d4ebff;}#sk-container-id-1 div.sk-label input.sk-toggleable__control:checked~label.sk-toggleable__label {background-color: #d4ebff;}#sk-container-id-1 input.sk-hidden--visually {border: 0;clip: rect(1px 1px 1px 1px);clip: rect(1px, 1px, 1px, 1px);height: 1px;margin: -1px;overflow: hidden;padding: 0;position: absolute;width: 1px;}#sk-container-id-1 div.sk-estimator {font-family: monospace;background-color: #f0f8ff;border: 1px dotted black;border-radius: 0.25em;box-sizing: border-box;margin-bottom: 0.5em;}#sk-container-id-1 div.sk-estimator:hover {background-color: #d4ebff;}#sk-container-id-1 div.sk-parallel-item::after {content: \"\";width: 100%;border-bottom: 1px solid gray;flex-grow: 1;}#sk-container-id-1 div.sk-label:hover label.sk-toggleable__label {background-color: #d4ebff;}#sk-container-id-1 div.sk-serial::before {content: \"\";position: absolute;border-left: 1px solid gray;box-sizing: border-box;top: 0;bottom: 0;left: 50%;z-index: 0;}#sk-container-id-1 div.sk-serial {display: flex;flex-direction: column;align-items: center;background-color: white;padding-right: 0.2em;padding-left: 0.2em;position: relative;}#sk-container-id-1 div.sk-item {position: relative;z-index: 1;}#sk-container-id-1 div.sk-parallel {display: flex;align-items: stretch;justify-content: center;background-color: white;position: relative;}#sk-container-id-1 div.sk-item::before, #sk-container-id-1 div.sk-parallel-item::before {content: \"\";position: absolute;border-left: 1px solid gray;box-sizing: border-box;top: 0;bottom: 0;left: 50%;z-index: -1;}#sk-container-id-1 div.sk-parallel-item {display: flex;flex-direction: column;z-index: 1;position: relative;background-color: white;}#sk-container-id-1 div.sk-parallel-item:first-child::after {align-self: flex-end;width: 50%;}#sk-container-id-1 div.sk-parallel-item:last-child::after {align-self: flex-start;width: 50%;}#sk-container-id-1 div.sk-parallel-item:only-child::after {width: 0;}#sk-container-id-1 div.sk-dashed-wrapped {border: 1px dashed gray;margin: 0 0.4em 0.5em 0.4em;box-sizing: border-box;padding-bottom: 0.4em;background-color: white;}#sk-container-id-1 div.sk-label label {font-family: monospace;font-weight: bold;display: inline-block;line-height: 1.2em;}#sk-container-id-1 div.sk-label-container {text-align: center;}#sk-container-id-1 div.sk-container {/* jupyter's `normalize.less` sets `[hidden] { display: none; }` but bootstrap.min.css set `[hidden] { display: none !important; }` so we also need the `!important` here to be able to override the default hidden behavior on the sphinx rendered scikit-learn.org. See: https://github.com/scikit-learn/scikit-learn/issues/21755 */display: inline-block !important;position: relative;}#sk-container-id-1 div.sk-text-repr-fallback {display: none;}</style><div id=\"sk-container-id-1\" class=\"sk-top-container\"><div class=\"sk-text-repr-fallback\"><pre>DecisionTreeRegressor()</pre><b>In a Jupyter environment, please rerun this cell to show the HTML representation or trust the notebook. <br />On GitHub, the HTML representation is unable to render, please try loading this page with nbviewer.org.</b></div><div class=\"sk-container\" hidden><div class=\"sk-item\"><div class=\"sk-estimator sk-toggleable\"><input class=\"sk-toggleable__control sk-hidden--visually\" id=\"sk-estimator-id-1\" type=\"checkbox\" checked><label for=\"sk-estimator-id-1\" class=\"sk-toggleable__label sk-toggleable__label-arrow\">DecisionTreeRegressor</label><div class=\"sk-toggleable__content\"><pre>DecisionTreeRegressor()</pre></div></div></div></div></div>"
      ],
      "text/plain": [
       "DecisionTreeRegressor()"
      ]
     },
     "execution_count": 99,
     "metadata": {},
     "output_type": "execute_result"
    }
   ],
   "source": [
    "import pandas as pd\n",
    "import numpy as np\n",
    "import matplotlib.pyplot as plt\n",
    "url = r'https://raw.githubusercontent.com/AnnaShestova/salary-years-simple-linear-regression/master/Salary_Data.csv'\n",
    "dataset = pd.read_csv(url)\n",
    "dataset. head()\n",
    "#Исследуем набор данных\n",
    "print(dataset.shape)\n",
    "dataset.describe()\n",
    "# Нарисуем точечную диаграмму\n",
    "plt.scatter (dataset['YearsExperience'], dataset['Salary'], color = 'b', label = \"Заработная плата\")\n",
    "plt.xlabel(\"Опыт(лет)\")\n",
    "plt.ylabel(\"Заработная плата\")\n",
    "plt.show()\n",
    "from sklearn.tree import DecisionTreeRegressor\n",
    "X = dataset.iloc[:, :-1].values\n",
    "y = dataset.iloc[:, 1].values\n",
    "print(X)\n",
    "print(y)\n",
    "# Теперь, когда у нас есть атрибуты и метки, необходимо разделить их на а обучающий и тестовый наборы.\n",
    "# Приведенный фрагмент разделяет 80% данных на обучающий набор, а 20% данных - на набор тестов\n",
    "X_train, X_test, y_train, y_test = train_test_split(X, y, test_size = 0.2, random_state = 0)\n",
    "# далее можно обучить алгоритм линейной регрессии\n",
    "# необходимо импортировать класс LinearRegression, создать его экземпляр и вызвать метод fit()\n",
    "regressor = DecisionTreeRegressor()\n",
    "regressor.fit(X_train, y_train)"
   ]
  },
  {
   "cell_type": "code",
   "execution_count": 100,
   "metadata": {},
   "outputs": [
    {
     "data": {
      "text/plain": [
       "array([ 46205. , 121872. ,  56375.5,  56375.5, 112635. , 105582. ])"
      ]
     },
     "execution_count": 100,
     "metadata": {},
     "output_type": "execute_result"
    },
    {
     "data": {
      "image/png": "[encoded data removed]",
      "text/plain": [
       "<Figure size 640x480 with 1 Axes>"
      ]
     },
     "metadata": {},
     "output_type": "display_data"
    }
   ],
   "source": [
    "from sklearn import tree\n",
    "tree.plot_tree(regressor)\n",
    "#Построим прогноз:\n",
    "y_pred = regressor.predict(X_test)\n",
    "y_pred\n",
    "#Теперь сравним некоторые из наших прогнозируемых значений с фактическими значениями:"
   ]
  },
  {
   "cell_type": "code",
   "execution_count": 101,
   "metadata": {},
   "outputs": [
    {
     "name": "stdout",
     "output_type": "stream",
     "text": [
      "Mean Squared Error: 25498988.416666668\n",
      "Mean Absolute Error: 4120.666666666667\n"
     ]
    },
    {
     "data": {
      "text/plain": [
       "5.421715809463662"
      ]
     },
     "execution_count": 101,
     "metadata": {},
     "output_type": "execute_result"
    }
   ],
   "source": [
    "df=pd.DataFrame({'Actual':y_test, 'Predicted':y_pred})\n",
    "df.head()\n",
    "\n",
    "#Расчитаем среднюю абсолютную и среднеквадратичную ошибку регрессии:\n",
    "from sklearn import metrics\n",
    "print('Mean Squared Error:', metrics.mean_squared_error(y_test, y_pred))\n",
    "print('Mean Absolute Error:', metrics.mean_absolute_error(y_test, y_pred))\n",
    "metrics.mean_absolute_error(y_test, y_pred) / np.average(y) * 100"
   ]
  },
  {
   "attachments": {},
   "cell_type": "markdown",
   "metadata": {},
   "source": [
    "ЗАДАНИЕ 5 \n",
    "Задание. Постройте модель регрессии для данных из предыдущей рабочей\n",
    "тетради.Для примера можно взять потребления газа (в миллионах\n",
    "галлонов) в 48 штатах США или набор данных о качестве красного вина:\n",
    "https://raw.githubusercontent.com/likarajo/petrol_consumption/master/data/pet\n",
    "rol_consumption.csv\n",
    "https://raw.githubusercontent.com/aniruddhachoudhury/Red-WineQuality/master/winequality-red.csv\n",
    "Постройте прогноз. Оцените точность модели"
   ]
  },
  {
   "cell_type": "code",
   "execution_count": 105,
   "metadata": {},
   "outputs": [
    {
     "data": {
      "text/html": [
       "<div>\n",
       "<style scoped>\n",
       "    .dataframe tbody tr th:only-of-type {\n",
       "        vertical-align: middle;\n",
       "    }\n",
       "\n",
       "    .dataframe tbody tr th {\n",
       "        vertical-align: top;\n",
       "    }\n",
       "\n",
       "    .dataframe thead th {\n",
       "        text-align: right;\n",
       "    }\n",
       "</style>\n",
       "<table border=\"1\" class=\"dataframe\">\n",
       "  <thead>\n",
       "    <tr style=\"text-align: right;\">\n",
       "      <th></th>\n",
       "      <th>fixed acidity</th>\n",
       "      <th>volatile acidity</th>\n",
       "      <th>citric acid</th>\n",
       "      <th>residual sugar</th>\n",
       "      <th>chlorides</th>\n",
       "      <th>free sulfur dioxide</th>\n",
       "      <th>total sulfur dioxide</th>\n",
       "      <th>density</th>\n",
       "      <th>pH</th>\n",
       "      <th>sulphates</th>\n",
       "      <th>alcohol</th>\n",
       "      <th>quality</th>\n",
       "    </tr>\n",
       "  </thead>\n",
       "  <tbody>\n",
       "    <tr>\n",
       "      <th>0</th>\n",
       "      <td>7.4</td>\n",
       "      <td>0.700</td>\n",
       "      <td>0.00</td>\n",
       "      <td>1.9</td>\n",
       "      <td>0.076</td>\n",
       "      <td>11.0</td>\n",
       "      <td>34.0</td>\n",
       "      <td>0.99780</td>\n",
       "      <td>3.51</td>\n",
       "      <td>0.56</td>\n",
       "      <td>9.4</td>\n",
       "      <td>5</td>\n",
       "    </tr>\n",
       "    <tr>\n",
       "      <th>1</th>\n",
       "      <td>7.8</td>\n",
       "      <td>0.880</td>\n",
       "      <td>0.00</td>\n",
       "      <td>2.6</td>\n",
       "      <td>0.098</td>\n",
       "      <td>25.0</td>\n",
       "      <td>67.0</td>\n",
       "      <td>0.99680</td>\n",
       "      <td>3.20</td>\n",
       "      <td>0.68</td>\n",
       "      <td>9.8</td>\n",
       "      <td>5</td>\n",
       "    </tr>\n",
       "    <tr>\n",
       "      <th>2</th>\n",
       "      <td>7.8</td>\n",
       "      <td>0.760</td>\n",
       "      <td>0.04</td>\n",
       "      <td>2.3</td>\n",
       "      <td>0.092</td>\n",
       "      <td>15.0</td>\n",
       "      <td>54.0</td>\n",
       "      <td>0.99700</td>\n",
       "      <td>3.26</td>\n",
       "      <td>0.65</td>\n",
       "      <td>9.8</td>\n",
       "      <td>5</td>\n",
       "    </tr>\n",
       "    <tr>\n",
       "      <th>3</th>\n",
       "      <td>11.2</td>\n",
       "      <td>0.280</td>\n",
       "      <td>0.56</td>\n",
       "      <td>1.9</td>\n",
       "      <td>0.075</td>\n",
       "      <td>17.0</td>\n",
       "      <td>60.0</td>\n",
       "      <td>0.99800</td>\n",
       "      <td>3.16</td>\n",
       "      <td>0.58</td>\n",
       "      <td>9.8</td>\n",
       "      <td>6</td>\n",
       "    </tr>\n",
       "    <tr>\n",
       "      <th>4</th>\n",
       "      <td>7.4</td>\n",
       "      <td>0.700</td>\n",
       "      <td>0.00</td>\n",
       "      <td>1.9</td>\n",
       "      <td>0.076</td>\n",
       "      <td>11.0</td>\n",
       "      <td>34.0</td>\n",
       "      <td>0.99780</td>\n",
       "      <td>3.51</td>\n",
       "      <td>0.56</td>\n",
       "      <td>9.4</td>\n",
       "      <td>5</td>\n",
       "    </tr>\n",
       "    <tr>\n",
       "      <th>...</th>\n",
       "      <td>...</td>\n",
       "      <td>...</td>\n",
       "      <td>...</td>\n",
       "      <td>...</td>\n",
       "      <td>...</td>\n",
       "      <td>...</td>\n",
       "      <td>...</td>\n",
       "      <td>...</td>\n",
       "      <td>...</td>\n",
       "      <td>...</td>\n",
       "      <td>...</td>\n",
       "      <td>...</td>\n",
       "    </tr>\n",
       "    <tr>\n",
       "      <th>1594</th>\n",
       "      <td>6.2</td>\n",
       "      <td>0.600</td>\n",
       "      <td>0.08</td>\n",
       "      <td>2.0</td>\n",
       "      <td>0.090</td>\n",
       "      <td>32.0</td>\n",
       "      <td>44.0</td>\n",
       "      <td>0.99490</td>\n",
       "      <td>3.45</td>\n",
       "      <td>0.58</td>\n",
       "      <td>10.5</td>\n",
       "      <td>5</td>\n",
       "    </tr>\n",
       "    <tr>\n",
       "      <th>1595</th>\n",
       "      <td>5.9</td>\n",
       "      <td>0.550</td>\n",
       "      <td>0.10</td>\n",
       "      <td>2.2</td>\n",
       "      <td>0.062</td>\n",
       "      <td>39.0</td>\n",
       "      <td>51.0</td>\n",
       "      <td>0.99512</td>\n",
       "      <td>3.52</td>\n",
       "      <td>0.76</td>\n",
       "      <td>11.2</td>\n",
       "      <td>6</td>\n",
       "    </tr>\n",
       "    <tr>\n",
       "      <th>1596</th>\n",
       "      <td>6.3</td>\n",
       "      <td>0.510</td>\n",
       "      <td>0.13</td>\n",
       "      <td>2.3</td>\n",
       "      <td>0.076</td>\n",
       "      <td>29.0</td>\n",
       "      <td>40.0</td>\n",
       "      <td>0.99574</td>\n",
       "      <td>3.42</td>\n",
       "      <td>0.75</td>\n",
       "      <td>11.0</td>\n",
       "      <td>6</td>\n",
       "    </tr>\n",
       "    <tr>\n",
       "      <th>1597</th>\n",
       "      <td>5.9</td>\n",
       "      <td>0.645</td>\n",
       "      <td>0.12</td>\n",
       "      <td>2.0</td>\n",
       "      <td>0.075</td>\n",
       "      <td>32.0</td>\n",
       "      <td>44.0</td>\n",
       "      <td>0.99547</td>\n",
       "      <td>3.57</td>\n",
       "      <td>0.71</td>\n",
       "      <td>10.2</td>\n",
       "      <td>5</td>\n",
       "    </tr>\n",
       "    <tr>\n",
       "      <th>1598</th>\n",
       "      <td>6.0</td>\n",
       "      <td>0.310</td>\n",
       "      <td>0.47</td>\n",
       "      <td>3.6</td>\n",
       "      <td>0.067</td>\n",
       "      <td>18.0</td>\n",
       "      <td>42.0</td>\n",
       "      <td>0.99549</td>\n",
       "      <td>3.39</td>\n",
       "      <td>0.66</td>\n",
       "      <td>11.0</td>\n",
       "      <td>6</td>\n",
       "    </tr>\n",
       "  </tbody>\n",
       "</table>\n",
       "<p>1599 rows × 12 columns</p>\n",
       "</div>"
      ],
      "text/plain": [
       "      fixed acidity  volatile acidity  citric acid  residual sugar  chlorides  \\\n",
       "0               7.4             0.700         0.00             1.9      0.076   \n",
       "1               7.8             0.880         0.00             2.6      0.098   \n",
       "2               7.8             0.760         0.04             2.3      0.092   \n",
       "3              11.2             0.280         0.56             1.9      0.075   \n",
       "4               7.4             0.700         0.00             1.9      0.076   \n",
       "...             ...               ...          ...             ...        ...   \n",
       "1594            6.2             0.600         0.08             2.0      0.090   \n",
       "1595            5.9             0.550         0.10             2.2      0.062   \n",
       "1596            6.3             0.510         0.13             2.3      0.076   \n",
       "1597            5.9             0.645         0.12             2.0      0.075   \n",
       "1598            6.0             0.310         0.47             3.6      0.067   \n",
       "\n",
       "      free sulfur dioxide  total sulfur dioxide  density    pH  sulphates  \\\n",
       "0                    11.0                  34.0  0.99780  3.51       0.56   \n",
       "1                    25.0                  67.0  0.99680  3.20       0.68   \n",
       "2                    15.0                  54.0  0.99700  3.26       0.65   \n",
       "3                    17.0                  60.0  0.99800  3.16       0.58   \n",
       "4                    11.0                  34.0  0.99780  3.51       0.56   \n",
       "...                   ...                   ...      ...   ...        ...   \n",
       "1594                 32.0                  44.0  0.99490  3.45       0.58   \n",
       "1595                 39.0                  51.0  0.99512  3.52       0.76   \n",
       "1596                 29.0                  40.0  0.99574  3.42       0.75   \n",
       "1597                 32.0                  44.0  0.99547  3.57       0.71   \n",
       "1598                 18.0                  42.0  0.99549  3.39       0.66   \n",
       "\n",
       "      alcohol  quality  \n",
       "0         9.4        5  \n",
       "1         9.8        5  \n",
       "2         9.8        5  \n",
       "3         9.8        6  \n",
       "4         9.4        5  \n",
       "...       ...      ...  \n",
       "1594     10.5        5  \n",
       "1595     11.2        6  \n",
       "1596     11.0        6  \n",
       "1597     10.2        5  \n",
       "1598     11.0        6  \n",
       "\n",
       "[1599 rows x 12 columns]"
      ]
     },
     "execution_count": 105,
     "metadata": {},
     "output_type": "execute_result"
    }
   ],
   "source": [
    "import pandas as pd\n",
    "import numpy as np\n",
    "import matplotlib.pyplot as plt\n",
    "from sklearn.tree import DecisionTreeRegressor\n",
    "from pandas import DataFrame, Series\n",
    "from sklearn.model_selection import train_test_split\n",
    "from sklearn.linear_model import LinearRegression\n",
    "\n",
    "#Считываем данные из файла\n",
    "url = \"https://raw.githubusercontent.com/aniruddhachoudhury/Red-Wine-Quality/master/winequality-red.csv\"\n",
    "dataframe = pd.read_csv(url)\n",
    "dataframe"
   ]
  },
  {
   "cell_type": "code",
   "execution_count": 106,
   "metadata": {},
   "outputs": [
    {
     "data": {
      "text/html": [
       "<style>#sk-container-id-2 {color: black;background-color: white;}#sk-container-id-2 pre{padding: 0;}#sk-container-id-2 div.sk-toggleable {background-color: white;}#sk-container-id-2 label.sk-toggleable__label {cursor: pointer;display: block;width: 100%;margin-bottom: 0;padding: 0.3em;box-sizing: border-box;text-align: center;}#sk-container-id-2 label.sk-toggleable__label-arrow:before {content: \"▸\";float: left;margin-right: 0.25em;color: #696969;}#sk-container-id-2 label.sk-toggleable__label-arrow:hover:before {color: black;}#sk-container-id-2 div.sk-estimator:hover label.sk-toggleable__label-arrow:before {color: black;}#sk-container-id-2 div.sk-toggleable__content {max-height: 0;max-width: 0;overflow: hidden;text-align: left;background-color: #f0f8ff;}#sk-container-id-2 div.sk-toggleable__content pre {margin: 0.2em;color: black;border-radius: 0.25em;background-color: #f0f8ff;}#sk-container-id-2 input.sk-toggleable__control:checked~div.sk-toggleable__content {max-height: 200px;max-width: 100%;overflow: auto;}#sk-container-id-2 input.sk-toggleable__control:checked~label.sk-toggleable__label-arrow:before {content: \"▾\";}#sk-container-id-2 div.sk-estimator input.sk-toggleable__control:checked~label.sk-toggleable__label {background-color: #d4ebff;}#sk-container-id-2 div.sk-label input.sk-toggleable__control:checked~label.sk-toggleable__label {background-color: #d4ebff;}#sk-container-id-2 input.sk-hidden--visually {border: 0;clip: rect(1px 1px 1px 1px);clip: rect(1px, 1px, 1px, 1px);height: 1px;margin: -1px;overflow: hidden;padding: 0;position: absolute;width: 1px;}#sk-container-id-2 div.sk-estimator {font-family: monospace;background-color: #f0f8ff;border: 1px dotted black;border-radius: 0.25em;box-sizing: border-box;margin-bottom: 0.5em;}#sk-container-id-2 div.sk-estimator:hover {background-color: #d4ebff;}#sk-container-id-2 div.sk-parallel-item::after {content: \"\";width: 100%;border-bottom: 1px solid gray;flex-grow: 1;}#sk-container-id-2 div.sk-label:hover label.sk-toggleable__label {background-color: #d4ebff;}#sk-container-id-2 div.sk-serial::before {content: \"\";position: absolute;border-left: 1px solid gray;box-sizing: border-box;top: 0;bottom: 0;left: 50%;z-index: 0;}#sk-container-id-2 div.sk-serial {display: flex;flex-direction: column;align-items: center;background-color: white;padding-right: 0.2em;padding-left: 0.2em;position: relative;}#sk-container-id-2 div.sk-item {position: relative;z-index: 1;}#sk-container-id-2 div.sk-parallel {display: flex;align-items: stretch;justify-content: center;background-color: white;position: relative;}#sk-container-id-2 div.sk-item::before, #sk-container-id-2 div.sk-parallel-item::before {content: \"\";position: absolute;border-left: 1px solid gray;box-sizing: border-box;top: 0;bottom: 0;left: 50%;z-index: -1;}#sk-container-id-2 div.sk-parallel-item {display: flex;flex-direction: column;z-index: 1;position: relative;background-color: white;}#sk-container-id-2 div.sk-parallel-item:first-child::after {align-self: flex-end;width: 50%;}#sk-container-id-2 div.sk-parallel-item:last-child::after {align-self: flex-start;width: 50%;}#sk-container-id-2 div.sk-parallel-item:only-child::after {width: 0;}#sk-container-id-2 div.sk-dashed-wrapped {border: 1px dashed gray;margin: 0 0.4em 0.5em 0.4em;box-sizing: border-box;padding-bottom: 0.4em;background-color: white;}#sk-container-id-2 div.sk-label label {font-family: monospace;font-weight: bold;display: inline-block;line-height: 1.2em;}#sk-container-id-2 div.sk-label-container {text-align: center;}#sk-container-id-2 div.sk-container {/* jupyter's `normalize.less` sets `[hidden] { display: none; }` but bootstrap.min.css set `[hidden] { display: none !important; }` so we also need the `!important` here to be able to override the default hidden behavior on the sphinx rendered scikit-learn.org. See: https://github.com/scikit-learn/scikit-learn/issues/21755 */display: inline-block !important;position: relative;}#sk-container-id-2 div.sk-text-repr-fallback {display: none;}</style><div id=\"sk-container-id-2\" class=\"sk-top-container\"><div class=\"sk-text-repr-fallback\"><pre>DecisionTreeRegressor()</pre><b>In a Jupyter environment, please rerun this cell to show the HTML representation or trust the notebook. <br />On GitHub, the HTML representation is unable to render, please try loading this page with nbviewer.org.</b></div><div class=\"sk-container\" hidden><div class=\"sk-item\"><div class=\"sk-estimator sk-toggleable\"><input class=\"sk-toggleable__control sk-hidden--visually\" id=\"sk-estimator-id-2\" type=\"checkbox\" checked><label for=\"sk-estimator-id-2\" class=\"sk-toggleable__label sk-toggleable__label-arrow\">DecisionTreeRegressor</label><div class=\"sk-toggleable__content\"><pre>DecisionTreeRegressor()</pre></div></div></div></div></div>"
      ],
      "text/plain": [
       "DecisionTreeRegressor()"
      ]
     },
     "execution_count": 106,
     "metadata": {},
     "output_type": "execute_result"
    }
   ],
   "source": [
    "#Отделяем quality От других переменных\n",
    "y =dataframe[\"quality\"]\n",
    "u = dataframe.drop(columns='quality') \n",
    "X = u\n",
    "\n",
    "#добавляем две оси\n",
    "X = np.c_[X, np.ones(X.shape[0])] \n",
    "y = np.c_[y]\n",
    "\n",
    "# Производим разбиение выборки на тренировочную и тестовую\n",
    "X_train, X_test, y_train, y_test = train_test_split(X, y, test_size = 0.2, random_state = 0)\n",
    "\n",
    "#создаем регрессор и обучаем дерево на тренировочных данных\n",
    "regressor = DecisionTreeRegressor() \n",
    "regressor.fit(X_train, y_train)"
   ]
  },
  {
   "cell_type": "code",
   "execution_count": 107,
   "metadata": {},
   "outputs": [
    {
     "name": "stdout",
     "output_type": "stream",
     "text": [
      "[5. 5. 7. 5. 5. 6. 6. 6. 5. 6. 5. 5. 6. 4. 5. 5. 7. 5. 5. 6. 7. 5. 6. 7.\n",
      " 5. 5. 5. 7. 5. 7. 6. 5. 5. 5. 7. 7. 5. 6. 6. 4. 6. 6. 7. 6. 6. 5. 5. 6.\n",
      " 5. 5. 6. 5. 6. 6. 5. 5. 5. 5. 7. 6. 5. 6. 6. 6. 5. 6. 5. 5. 7. 6. 6. 6.\n",
      " 5. 5. 6. 6. 5. 5. 5. 7. 6. 5. 6. 5. 6. 5. 7. 5. 5. 5. 5. 6. 7. 6. 5. 6.\n",
      " 7. 4. 5. 6. 6. 5. 6. 6. 5. 5. 5. 5. 6. 5. 6. 5. 8. 5. 6. 6. 5. 6. 7. 6.\n",
      " 5. 4. 5. 5. 6. 6. 5. 6. 6. 7. 6. 6. 7. 6. 6. 5. 6. 5. 6. 5. 6. 6. 5. 6.\n",
      " 5. 6. 8. 6. 5. 5. 6. 5. 5. 5. 6. 6. 6. 6. 6. 4. 5. 6. 7. 5. 5. 5. 6. 6.\n",
      " 6. 6. 6. 5. 5. 7. 6. 6. 7. 6. 7. 5. 4. 7. 6. 6. 4. 5. 6. 6. 5. 5. 6. 6.\n",
      " 6. 6. 5. 5. 5. 6. 5. 5. 5. 6. 6. 6. 5. 5. 6. 7. 6. 6. 5. 6. 5. 5. 3. 6.\n",
      " 6. 7. 6. 5. 5. 5. 7. 6. 5. 6. 7. 6. 6. 5. 5. 6. 6. 5. 6. 6. 6. 7. 7. 6.\n",
      " 5. 6. 5. 5. 7. 5. 5. 5. 5. 6. 6. 6. 6. 5. 6. 5. 5. 5. 6. 7. 5. 6. 5. 6.\n",
      " 6. 5. 5. 5. 5. 6. 5. 5. 5. 6. 7. 6. 5. 6. 6. 5. 5. 7. 5. 6. 6. 5. 5. 5.\n",
      " 7. 6. 5. 6. 6. 6. 6. 6. 6. 5. 6. 5. 6. 5. 6. 5. 5. 6. 6. 5. 6. 5. 5. 6.\n",
      " 5. 4. 4. 6. 6. 5. 5. 7.]\n",
      "     0\n",
      "5.0  6\n",
      "5.0  5\n",
      "7.0  7\n",
      "5.0  6\n",
      "5.0  5\n",
      "..  ..\n",
      "6.0  6\n",
      "6.0  4\n",
      "5.0  5\n",
      "5.0  4\n",
      "7.0  6\n",
      "\n",
      "[320 rows x 1 columns]\n"
     ]
    },
    {
     "data": {
      "image/png": "[encoded data removed]",
      "text/plain": [
       "<Figure size 640x480 with 1 Axes>"
      ]
     },
     "metadata": {},
     "output_type": "display_data"
    }
   ],
   "source": [
    "from sklearn import tree \n",
    "from sklearn import metrics \n",
    "#визуализируем дерево \n",
    "tree.plot_tree(regressor)\n",
    "\n",
    "#делаем предсказание на тестовых данных\n",
    "y_pred = regressor.predict(X_test)\n",
    "print(y_pred)\n",
    "\n",
    "#создаем датафрейм предсказанных данных и реальных\n",
    "df=pd.DataFrame(y_test,y_pred)\n",
    "print(df)"
   ]
  },
  {
   "cell_type": "code",
   "execution_count": 110,
   "metadata": {},
   "outputs": [
    {
     "name": "stdout",
     "output_type": "stream",
     "text": [
      "Mean Squared Error: 0.634375\n",
      "Mean Absolute Error: 0.446875\n",
      "Avg Absolute Error: 7.928907290279627\n"
     ]
    }
   ],
   "source": [
    "from sklearn import metrics\n",
    "print('Mean Squared Error:', metrics.mean_squared_error(y_test, y_pred)) \n",
    "print('Mean Absolute Error:', metrics.mean_absolute_error(y_test, y_pred))\n",
    "print ('Avg Absolute Error:', metrics.mean_absolute_error(y_test, y_pred) / np.average(y) * 100)"
   ]
  }
 ],
 "metadata": {
  "kernelspec": {
   "display_name": "Python 3",
   "language": "python",
   "name": "python3"
  },
  "language_info": {
   "codemirror_mode": {
    "name": "ipython",
    "version": 3
   },
   "file_extension": ".py",
   "mimetype": "text/x-python",
   "name": "python",
   "nbconvert_exporter": "python",
   "pygments_lexer": "ipython3",
   "version": "3.11.2"
  },
  "orig_nbformat": 4,
  "vscode": {
   "interpreter": {
    "hash": "8eae4e9b2072181b7f3ec97878980bf93f3203c81b2447bae3685cf3ee8f585f"
   }
  }
 },
 "nbformat": 4,
 "nbformat_minor": 2
}
