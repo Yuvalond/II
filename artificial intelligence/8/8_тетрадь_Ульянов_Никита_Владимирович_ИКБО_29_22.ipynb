{
 "cells": [
  {
   "attachments": {},
   "cell_type": "markdown",
   "metadata": {},
   "source": [
    "    1.1.1 Пример\n",
    "\n",
    "Задача:\n",
    "\n",
    "Проведем кластеризацию K-средних к набору простых цифр. K-means\n",
    "попытается идентифицировать похожие цифры"
   ]
  },
  {
   "cell_type": "code",
   "execution_count": null,
   "metadata": {},
   "outputs": [],
   "source": [
    "# Начнем с импорта необходимых пакетов \n",
    "import matplotlib.pyplot as plt \n",
    "import seaborn as sns; sns.set() \n",
    "import numpy as np\n",
    "from sklearn.cluster import KMeans\n",
    "# загрузим набор цифр из sklearn \n",
    "from sklearn.datasets import load_digits \n",
    "digits = load_digits() \n",
    "digits.data.shape"
   ]
  }
 ],
 "metadata": {
  "kernelspec": {
   "display_name": "Python 3",
   "language": "python",
   "name": "python3"
  },
  "language_info": {
   "name": "python",
   "version": "3.9.7"
  },
  "orig_nbformat": 4,
  "vscode": {
   "interpreter": {
    "hash": "c347c8f9a7ef94e4c9e03b4513be7835ed18f45b99a2a817fb579f408b867b16"
   }
  }
 },
 "nbformat": 4,
 "nbformat_minor": 2
}
